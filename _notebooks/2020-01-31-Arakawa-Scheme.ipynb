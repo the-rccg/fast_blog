{
 "cells": [
  {
   "cell_type": "markdown",
   "metadata": {},
   "source": [
    "# Arakawa Scheme\n",
    "> Implementing Stencils efficiently in Python\n",
    "- toc: True"
   ]
  },
  {
   "cell_type": "markdown",
   "metadata": {},
   "source": [
    "By Akio Arakawa from \"Computational Design for Long-Term Numerical Integration of the Equations of Fluid Motion: Two-Dimensional Incompressible Flow\"\n",
    "\n",
    "https://www.sciencedirect.com/science/article/pii/S0021999197956977"
   ]
  },
  {
   "cell_type": "markdown",
   "metadata": {},
   "source": [
    "## Introduction\n",
    "\n",
    "$$ \n",
    "\\frac{\\partial \\zeta}{\\partial t} + \\mathbf{v} \\cdot \\nabla \\zeta = 0\n",
    "$$\n",
    "with: $\\mathbf{v = k} \\times \\nabla \\psi, \\quad \\zeta=\\mathbf{k\\cdot\\nabla\\times v \\equiv \\nabla^2} \\psi$\n",
    "\n",
    "### Rewriting\n",
    "\n",
    "$$ \n",
    "\\frac{\\partial \\zeta}{\\partial t} = J(\\zeta, \\psi) \n",
    "\\quad or \\quad \n",
    "\\frac{\\partial \\nabla^2 \\psi}{\\partial t} = J(\\nabla^2 \\psi, \\psi)\n",
    "$$"
   ]
  },
  {
   "cell_type": "markdown",
   "metadata": {},
   "source": [
    "## Explicit Calculation"
   ]
  },
  {
   "cell_type": "markdown",
   "metadata": {},
   "source": [
    "### Equations"
   ]
  },
  {
   "cell_type": "markdown",
   "metadata": {},
   "source": [
    "$$\\frac{\\mathbb{J}^{++} + \\mathbb{J}^{+\\times} + \\mathbb{J}^{\\times +}}{3}$$"
   ]
  },
  {
   "cell_type": "markdown",
   "metadata": {},
   "source": [
    "$\\mathbb{J}^{++}(\\zeta, \\psi) \n",
    "= \\frac{1}{4d^2} \\left[ \n",
    "    \\left( \\zeta_{i+1, j}   - \\zeta_{i-1, j}   \\right) \\left( \\psi_{i,   j+1} - \\psi_{i,   j-1} \\right)\n",
    "   -\\left( \\zeta_{i,   j+1} - \\zeta_{i,   j-1} \\right) \\left( \\psi_{i+1, j}   - \\psi_{i-1, j}   \\right)\n",
    "\\right]\n",
    "$\n",
    "\n",
    "$\\mathbb{J}^{+\\times}(\\zeta, \\psi)\n",
    "= \\frac{1}{4d^2} \\left[\n",
    "    \\zeta_{i+1, j}   \\left( \\psi_{i+1, j+1} - \\psi_{i+1, j-1} \\right)\n",
    "   -\\zeta_{i-1, j}   \\left( \\psi_{i-1, j+1} - \\psi_{i-1, j-1} \\right)\n",
    "   -\\zeta_{i,   j+1} \\left( \\psi_{i+1, j+1} - \\psi_{i-1, j+1} \\right)\n",
    "   +\\zeta_{i,   j-1} \\left( \\psi_{i+1, j-1} - \\psi_{i-1, j-1} \\right)\n",
    "\\right]\n",
    "$\n",
    "\n",
    "$\\mathbb{J}^{+\\times}(\\zeta, \\psi)\n",
    "= \\frac{1}{4d^2} \\left[\n",
    "    \\zeta_{i+1, j+1} \\left( \\psi_{i,   j+1} - \\psi_{i+1, j}   \\right)\n",
    "   -\\zeta_{i-1, j-1} \\left( \\psi_{i-1, j}   - \\psi_{i, j-1} \\right)\n",
    "   -\\zeta_{i-1, j+1} \\left( \\psi_{i,   j+1} - \\psi_{i-1, j}   \\right)\n",
    "   +\\zeta_{i+1, j-1} \\left( \\psi_{i+1, j}   - \\psi_{i,   j-1} \\right)\n",
    "\\right]\n",
    "$"
   ]
  },
  {
   "cell_type": "markdown",
   "metadata": {},
   "source": [
    "### In Python"
   ]
  },
  {
   "cell_type": "code",
   "execution_count": 1,
   "metadata": {},
   "outputs": [],
   "source": [
    "def jpp(zeta, psi, d, i, j):\n",
    "    return ((zeta[i+1, j  ] - zeta[i-1, j  ])*(psi[i,   j+1] - psi[i,   j-1])\n",
    "           -(zeta[i,   j+1] - zeta[i,   j-1])*(psi[i+1, j  ] - psi[i-1, j  ]))/(4*d**2)\n",
    "\n",
    "def jpx(zeta, psi, d, i, j):\n",
    "    return (zeta[i+1, j  ]*(psi[i+1, j+1] - psi[i+1, j-1])\n",
    "           -zeta[i-1, j  ]*(psi[i-1, j+1] - psi[i-1, j-1])\n",
    "           -zeta[i,   j+1]*(psi[i+1, j+1] - psi[i-1, j+1])\n",
    "           +zeta[i,   j-1]*(psi[i+1, j-1] - psi[i-1, j-1]))/(4*d**2)\n",
    "\n",
    "def jxp(zeta, psi, d, i, j):\n",
    "    return (zeta[i+1, j+1]*(psi[i,   j+1] - psi[i+1, j  ])\n",
    "           -zeta[i-1, j-1]*(psi[i-1, j  ] - psi[i,   j-1])\n",
    "           -zeta[i-1, j+1]*(psi[i,   j+1] - psi[i-1, j  ])\n",
    "           +zeta[i+1, j-1]*(psi[i+1, j  ] - psi[i,   j-1]))/(4*d**2)"
   ]
  },
  {
   "cell_type": "code",
   "execution_count": 49,
   "metadata": {},
   "outputs": [],
   "source": [
    "def arakawa(zeta, psi, d):\n",
    "    val = np.empty_like(zeta)\n",
    "    for i in range(zeta.shape[0]):\n",
    "        for j in range(zeta.shape[1]):\n",
    "            val += (jpp(zeta, psi, d, i, j) + jpx(zeta, psi, d, i, j) + jxp(zeta, psi, d, i, j))\n",
    "    return val/3"
   ]
  },
  {
   "cell_type": "markdown",
   "metadata": {},
   "source": [
    "### As Stencil"
   ]
  },
  {
   "cell_type": "markdown",
   "metadata": {},
   "source": [
    "https://numba.pydata.org/numba-doc/dev/user/stencil.html"
   ]
  },
  {
   "cell_type": "code",
   "execution_count": 2,
   "metadata": {},
   "outputs": [],
   "source": [
    "from numba import stencil"
   ]
  },
  {
   "cell_type": "code",
   "execution_count": 3,
   "metadata": {},
   "outputs": [],
   "source": [
    "@stencil\n",
    "def jpp(zeta, psi, d):\n",
    "    return ((zeta[1, 0] - zeta[-1, 0])*(psi[0, 1] - psi[0, -1])\n",
    "           -(zeta[0, 1] - zeta[0, -1])*(psi[1, 0] - psi[-1, 0]))/(4*d**2)\n",
    "\n",
    "@stencil\n",
    "def jpx(zeta, psi, d):\n",
    "    return (zeta[1, 0]*(psi[1, 1] - psi[1, -1])\n",
    "           -zeta[-1, 0]*(psi[-1, 1] - psi[-1, -1])\n",
    "           -zeta[0, 1]*(psi[1, 1] - psi[-1, 1])\n",
    "           +zeta[0, -1]*(psi[1, -1] - psi[-1, -1]))/(4*d**2)\n",
    "\n",
    "@stencil\n",
    "def jxp(zeta, psi, d):\n",
    "    return (zeta[ 1,  1]*(psi[ 0, 1] - psi[ 1,  0])\n",
    "           -zeta[-1, -1]*(psi[-1, 0] - psi[ 0, -1])\n",
    "           -zeta[-1,  1]*(psi[ 0, 1] - psi[-1,  0])\n",
    "           +zeta[ 1, -1]*(psi[ 1, 0] - psi[ 0, -1]))/(4*d**2)"
   ]
  },
  {
   "cell_type": "code",
   "execution_count": 4,
   "metadata": {},
   "outputs": [],
   "source": [
    "from numba import jit"
   ]
  },
  {
   "cell_type": "code",
   "execution_count": 5,
   "metadata": {},
   "outputs": [],
   "source": [
    "@jit\n",
    "def arakawa(zeta, psi, d):\n",
    "    return (jpp(zeta, psi, d) + jpx(zeta, psi, d) + jxp(zeta, psi, d))/3"
   ]
  },
  {
   "cell_type": "markdown",
   "metadata": {},
   "source": [
    "### Periodic Boundary Conditions"
   ]
  },
  {
   "cell_type": "code",
   "execution_count": 6,
   "metadata": {},
   "outputs": [],
   "source": [
    "def periodic_boundary(A):\n",
    "    A_ = np.zeros((A.shape[0]+2, A.shape[1]+2))\n",
    "    A_[1:-1, 1:-1] = A\n",
    "    A_[0, 1:-1]  = A[-1, :]\n",
    "    A_[-1, 1:-1] = A[0, :]\n",
    "    A_[1:-1, -1] = A[:, 1]\n",
    "    A_[1:-1, 0]  = A[:, -1]\n",
    "    A_[0,0] = A[-1,-1]\n",
    "    A_[-1,-1] = A[0,0]\n",
    "    return A_"
   ]
  },
  {
   "cell_type": "code",
   "execution_count": 8,
   "metadata": {},
   "outputs": [],
   "source": [
    "import numpy as np"
   ]
  },
  {
   "cell_type": "code",
   "execution_count": 14,
   "metadata": {},
   "outputs": [
    {
     "name": "stdout",
     "output_type": "stream",
     "text": [
      "[[ 0  1  2  3]\n",
      " [ 4  5  6  7]\n",
      " [ 8  9 10 11]\n",
      " [12 13 14 15]]\n",
      "[[15. 12. 13. 14. 15.  0.]\n",
      " [ 3.  0.  1.  2.  3.  1.]\n",
      " [ 7.  4.  5.  6.  7.  5.]\n",
      " [11.  8.  9. 10. 11.  9.]\n",
      " [15. 12. 13. 14. 15. 13.]\n",
      " [ 0.  0.  1.  2.  3.  0.]]\n"
     ]
    }
   ],
   "source": [
    "N = 4\n",
    "A = np.arange(N*N).reshape((N,N))\n",
    "A_ = periodic_boundary(A)\n",
    "print(A)\n",
    "print(A_)"
   ]
  },
  {
   "cell_type": "markdown",
   "metadata": {},
   "source": [
    "## How do stencils work"
   ]
  },
  {
   "cell_type": "markdown",
   "metadata": {},
   "source": [
    "https://numba.pydata.org/numba-doc/dev/user/stencil.html"
   ]
  },
  {
   "cell_type": "markdown",
   "metadata": {},
   "source": [
    "Here, we will use a simple example of a row wise smoothing over the left, center, and right element in each. The code should be self explanatory."
   ]
  },
  {
   "cell_type": "code",
   "execution_count": 15,
   "metadata": {},
   "outputs": [],
   "source": [
    "import numpy as np\n",
    "from numba import stencil"
   ]
  },
  {
   "cell_type": "code",
   "execution_count": 16,
   "metadata": {},
   "outputs": [],
   "source": [
    "N = 5"
   ]
  },
  {
   "cell_type": "code",
   "execution_count": 24,
   "metadata": {},
   "outputs": [],
   "source": [
    "A = np.arange(N*N).reshape((N,N))\n",
    "A_ = periodic_boundary(A)"
   ]
  },
  {
   "cell_type": "code",
   "execution_count": 25,
   "metadata": {},
   "outputs": [],
   "source": [
    "val = np.empty_like(A, dtype=float)\n",
    "for i in range(1,A.shape[0]+1):\n",
    "    for j in range(1, A.shape[1]+1):\n",
    "        val[i-1][j-1] = (A_[i, j-1] + A_[i, j] + A_[i, j+1])/3"
   ]
  },
  {
   "cell_type": "code",
   "execution_count": 26,
   "metadata": {},
   "outputs": [],
   "source": [
    "@stencil\n",
    "def simple_stencil(A):\n",
    "    return (A[0, -1] + A[0, 0] + A[0, 1])/3"
   ]
  },
  {
   "cell_type": "code",
   "execution_count": 28,
   "metadata": {},
   "outputs": [
    {
     "name": "stdout",
     "output_type": "stream",
     "text": [
      "[[ 0.  1.  2.  3.  4.]\n",
      " [ 5.  6.  7.  8.  9.]\n",
      " [10. 11. 12. 13. 14.]\n",
      " [15. 16. 17. 18. 19.]\n",
      " [20. 21. 22. 23. 24.]]\n",
      "[[ 1.66666667  1.          2.          3.          2.66666667]\n",
      " [ 6.66666667  6.          7.          8.          7.66666667]\n",
      " [11.66666667 11.         12.         13.         12.66666667]\n",
      " [16.66666667 16.         17.         18.         17.66666667]\n",
      " [21.66666667 21.         22.         23.         22.66666667]]\n",
      "[[ 1.66666667  1.          2.          3.          2.66666667]\n",
      " [ 6.66666667  6.          7.          8.          7.66666667]\n",
      " [11.66666667 11.         12.         13.         12.66666667]\n",
      " [16.66666667 16.         17.         18.         17.66666667]\n",
      " [21.66666667 21.         22.         23.         22.66666667]]\n"
     ]
    }
   ],
   "source": [
    "print(A_[1:-1, 1:-1])\n",
    "print(val)\n",
    "print(simple_stencil(A_)[1:-1,1:-1])"
   ]
  },
  {
   "cell_type": "markdown",
   "metadata": {},
   "source": [
    "## Applying Arakawa Scheme"
   ]
  },
  {
   "cell_type": "markdown",
   "metadata": {},
   "source": [
    "### Simple shapes that should result in 0"
   ]
  },
  {
   "cell_type": "code",
   "execution_count": 29,
   "metadata": {},
   "outputs": [],
   "source": [
    "A = np.random.random(N)\n",
    "A = np.array([A for i in range(N)])\n",
    "B = A\n",
    "A_ = periodic_boundary(A)\n",
    "B_ = periodic_boundary(B)"
   ]
  },
  {
   "cell_type": "markdown",
   "metadata": {},
   "source": [
    "#### The three components"
   ]
  },
  {
   "cell_type": "code",
   "execution_count": 34,
   "metadata": {},
   "outputs": [
    {
     "name": "stdout",
     "output_type": "stream",
     "text": [
      "[[0.90962163 0.56786158 0.90072913 0.52656847 0.24296998]\n",
      " [0.90962163 0.56786158 0.90072913 0.52656847 0.24296998]\n",
      " [0.90962163 0.56786158 0.90072913 0.52656847 0.24296998]\n",
      " [0.90962163 0.56786158 0.90072913 0.52656847 0.24296998]\n",
      " [0.90962163 0.56786158 0.90072913 0.52656847 0.24296998]]\n",
      "[[0. 0. 0. 0. 0.]\n",
      " [0. 0. 0. 0. 0.]\n",
      " [0. 0. 0. 0. 0.]\n",
      " [0. 0. 0. 0. 0.]\n",
      " [0. 0. 0. 0. 0.]]\n",
      "[[ 0.          0.          0.          0.         -0.03074891]\n",
      " [ 0.          0.          0.          0.          0.        ]\n",
      " [ 0.          0.          0.          0.          0.        ]\n",
      " [ 0.          0.          0.          0.          0.        ]\n",
      " [ 0.02699606  0.          0.          0.         -0.01850583]]\n",
      "[[ 4.62592927e-18 -9.25185854e-18  0.00000000e+00  0.00000000e+00\n",
      "   3.07489094e-02]\n",
      " [ 4.62592927e-18 -9.25185854e-18  0.00000000e+00  0.00000000e+00\n",
      "   4.62592927e-18]\n",
      " [ 4.62592927e-18 -9.25185854e-18  0.00000000e+00  0.00000000e+00\n",
      "   4.62592927e-18]\n",
      " [ 4.62592927e-18 -9.25185854e-18  0.00000000e+00  0.00000000e+00\n",
      "   4.62592927e-18]\n",
      " [-2.69960564e-02 -9.25185854e-18  0.00000000e+00  0.00000000e+00\n",
      "   1.85058281e-02]]\n"
     ]
    }
   ],
   "source": [
    "print(A_[1:-1, 1:-1])\n",
    "print(jpp(A_, B_, 1)[1:-1,1:-1])\n",
    "print(jpx(A_, B_, 1)[1:-1,1:-1])\n",
    "print(jxp(A_, B_, 1)[1:-1,1:-1])"
   ]
  },
  {
   "cell_type": "markdown",
   "metadata": {},
   "source": [
    "All come out close to zero"
   ]
  },
  {
   "cell_type": "markdown",
   "metadata": {},
   "source": [
    "#### The Full Average"
   ]
  },
  {
   "cell_type": "code",
   "execution_count": 94,
   "metadata": {},
   "outputs": [],
   "source": [
    "@jit\n",
    "def arakawa(zeta, psi, d):\n",
    "    return (jpp(zeta, psi, d) + jpx(zeta, psi, d) + jxp(zeta, psi, d))/3"
   ]
  },
  {
   "cell_type": "code",
   "execution_count": 95,
   "metadata": {},
   "outputs": [
    {
     "name": "stdout",
     "output_type": "stream",
     "text": [
      "[[0.68652698 0.15561446 0.1491985  0.35296006]\n",
      " [0.68652698 0.15561446 0.1491985  0.35296006]\n",
      " [0.68652698 0.15561446 0.1491985  0.35296006]\n",
      " [0.68652698 0.15561446 0.1491985  0.35296006]]\n",
      "[[ 0.00000000e+00  0.00000000e+00  1.80700362e-19  0.00000000e+00]\n",
      " [ 0.00000000e+00  0.00000000e+00  1.80700362e-19 -1.92747053e-19]\n",
      " [ 0.00000000e+00  0.00000000e+00  1.80700362e-19 -1.92747053e-19]\n",
      " [-1.15648232e-18  0.00000000e+00  1.80700362e-19  1.15648232e-18]]\n"
     ]
    }
   ],
   "source": [
    "print(A_[1:-1,1:-1])\n",
    "print(arakawa(periodic_boundary(A), periodic_boundary(B), 1)[1:-1,1:-1])"
   ]
  },
  {
   "cell_type": "markdown",
   "metadata": {},
   "source": [
    "Again, all cpme out close to zero when applying the arakawa scheme."
   ]
  },
  {
   "cell_type": "markdown",
   "metadata": {},
   "source": [
    "## Timing"
   ]
  },
  {
   "cell_type": "code",
   "execution_count": 68,
   "metadata": {},
   "outputs": [],
   "source": [
    "N = 512"
   ]
  },
  {
   "cell_type": "code",
   "execution_count": 69,
   "metadata": {},
   "outputs": [
    {
     "name": "stdout",
     "output_type": "stream",
     "text": [
      "4.04 ms ± 182 µs per loop (mean ± std. dev. of 7 runs, 100 loops each)\n"
     ]
    }
   ],
   "source": [
    "%%timeit\n",
    "A = np.random.random((N,N))\n",
    "B = np.random.random((N,N))\n",
    "A_ = periodic_boundary(A)\n",
    "B_ = periodic_boundary(B)"
   ]
  },
  {
   "cell_type": "markdown",
   "metadata": {},
   "source": [
    "### Pure Python (3.46s)"
   ]
  },
  {
   "cell_type": "code",
   "execution_count": 71,
   "metadata": {},
   "outputs": [],
   "source": [
    "def jpp(zeta, psi, d, i, j):\n",
    "    return ((zeta[i+1, j  ] - zeta[i-1, j  ])*(psi[i,   j+1] - psi[i,   j-1])\n",
    "           -(zeta[i,   j+1] - zeta[i,   j-1])*(psi[i+1, j  ] - psi[i-1, j  ]))/(4*d**2)\n",
    "\n",
    "def jpx(zeta, psi, d, i, j):\n",
    "    return (zeta[i+1, j  ]*(psi[i+1, j+1] - psi[i+1, j-1])\n",
    "           -zeta[i-1, j  ]*(psi[i-1, j+1] - psi[i-1, j-1])\n",
    "           -zeta[i,   j+1]*(psi[i+1, j+1] - psi[i-1, j+1])\n",
    "           +zeta[i,   j-1]*(psi[i+1, j-1] - psi[i-1, j-1]))/(4*d**2)\n",
    "\n",
    "def jxp(zeta, psi, d, i, j):\n",
    "    return (zeta[i+1, j+1]*(psi[i,   j+1] - psi[i+1, j  ])\n",
    "           -zeta[i-1, j-1]*(psi[i-1, j  ] - psi[i,   j-1])\n",
    "           -zeta[i-1, j+1]*(psi[i,   j+1] - psi[i-1, j  ])\n",
    "           +zeta[i+1, j-1]*(psi[i+1, j  ] - psi[i,   j-1]))/(4*d**2)"
   ]
  },
  {
   "cell_type": "code",
   "execution_count": 72,
   "metadata": {},
   "outputs": [],
   "source": [
    "def arakawa(zeta, psi, d):\n",
    "    val = np.empty_like(zeta)\n",
    "    for i in range(1, zeta.shape[0]-1):\n",
    "        for j in range(1, zeta.shape[1]-1):\n",
    "            val[i][j] = (jpp(zeta, psi, d, i, j) + jpx(zeta, psi, d, i, j) + jxp(zeta, psi, d, i, j))\n",
    "    return val/3"
   ]
  },
  {
   "cell_type": "code",
   "execution_count": null,
   "metadata": {},
   "outputs": [],
   "source": [
    "A = np.random.random(4)\n",
    "A = np.array([A for i in range(4)])\n",
    "B = A\n",
    "A_ = periodic_boundary(A)\n",
    "B_ = periodic_boundary(B)"
   ]
  },
  {
   "cell_type": "code",
   "execution_count": 61,
   "metadata": {},
   "outputs": [
    {
     "name": "stdout",
     "output_type": "stream",
     "text": [
      "float64\n",
      "[[ 0.00000000e+00  0.00000000e+00  0.00000000e+00  0.00000000e+00\n",
      "   0.00000000e+00  0.00000000e+00  0.00000000e+00]\n",
      " [ 0.00000000e+00  1.54197642e-18 -3.08395285e-18  0.00000000e+00\n",
      "   0.00000000e+00  0.00000000e+00  0.00000000e+00]\n",
      " [ 0.00000000e+00  1.54197642e-18 -3.08395285e-18  0.00000000e+00\n",
      "   0.00000000e+00  1.54197642e-18  0.00000000e+00]\n",
      " [ 0.00000000e+00  1.54197642e-18 -3.08395285e-18  0.00000000e+00\n",
      "   0.00000000e+00  1.54197642e-18  0.00000000e+00]\n",
      " [ 0.00000000e+00  1.54197642e-18 -3.08395285e-18  0.00000000e+00\n",
      "   0.00000000e+00  1.54197642e-18  0.00000000e+00]\n",
      " [ 0.00000000e+00  0.00000000e+00 -3.08395285e-18  0.00000000e+00\n",
      "   0.00000000e+00  0.00000000e+00  0.00000000e+00]\n",
      " [ 0.00000000e+00  0.00000000e+00  0.00000000e+00  0.00000000e+00\n",
      "   0.00000000e+00  0.00000000e+00  0.00000000e+00]]\n"
     ]
    }
   ],
   "source": [
    "print(arakawa(A_, B_, d=1).dtype)\n",
    "print(arakawa(A_, B_, d=1))"
   ]
  },
  {
   "cell_type": "code",
   "execution_count": 73,
   "metadata": {},
   "outputs": [
    {
     "name": "stdout",
     "output_type": "stream",
     "text": [
      "3.46 s ± 217 ms per loop (mean ± std. dev. of 7 runs, 1 loop each)\n"
     ]
    }
   ],
   "source": [
    "%%timeit\n",
    "A = np.random.random((N,N))\n",
    "B = np.random.random((N,N))\n",
    "A_ = periodic_boundary(A)\n",
    "B_ = periodic_boundary(B)\n",
    "C = arakawa(A_, B_, d=1)"
   ]
  },
  {
   "cell_type": "markdown",
   "metadata": {},
   "source": [
    "### Mixed (1.47s)"
   ]
  },
  {
   "cell_type": "code",
   "execution_count": 74,
   "metadata": {},
   "outputs": [],
   "source": [
    "@stencil\n",
    "def jpp(zeta, psi, d):\n",
    "    return ((zeta[1, 0] - zeta[-1, 0])*(psi[0, 1] - psi[0, -1])\n",
    "           -(zeta[0, 1] - zeta[0, -1])*(psi[1, 0] - psi[-1, 0]))/(4*d**2)\n",
    "\n",
    "@stencil\n",
    "def jpx(zeta, psi, d):\n",
    "    return (zeta[1, 0]*(psi[1, 1] - psi[1, -1])\n",
    "           -zeta[-1, 0]*(psi[-1, 1] - psi[-1, -1])\n",
    "           -zeta[0, 1]*(psi[1, 1] - psi[-1, 1])\n",
    "           +zeta[0, -1]*(psi[1, -1] - psi[-1, -1]))/(4*d**2)\n",
    "\n",
    "@stencil\n",
    "def jxp(zeta, psi, d):\n",
    "    return (zeta[ 1,  1]*(psi[ 0, 1] - psi[ 1,  0])\n",
    "           -zeta[-1, -1]*(psi[-1, 0] - psi[ 0, -1])\n",
    "           -zeta[-1,  1]*(psi[ 0, 1] - psi[-1,  0])\n",
    "           +zeta[ 1, -1]*(psi[ 1, 0] - psi[ 0, -1]))/(4*d**2)"
   ]
  },
  {
   "cell_type": "code",
   "execution_count": 75,
   "metadata": {},
   "outputs": [],
   "source": [
    "def arakawa(zeta, psi, d):\n",
    "    return (jpp(zeta, psi, d) + jpx(zeta, psi, d) + jxp(zeta, psi, d))/3"
   ]
  },
  {
   "cell_type": "code",
   "execution_count": 65,
   "metadata": {},
   "outputs": [
    {
     "name": "stdout",
     "output_type": "stream",
     "text": [
      "float64\n",
      "[[ 0.00000000e+00  0.00000000e+00  0.00000000e+00  0.00000000e+00\n",
      "   0.00000000e+00  0.00000000e+00  0.00000000e+00]\n",
      " [ 0.00000000e+00  1.54197642e-18 -3.08395285e-18  0.00000000e+00\n",
      "   0.00000000e+00  0.00000000e+00  0.00000000e+00]\n",
      " [ 0.00000000e+00  1.54197642e-18 -3.08395285e-18  0.00000000e+00\n",
      "   0.00000000e+00  1.54197642e-18  0.00000000e+00]\n",
      " [ 0.00000000e+00  1.54197642e-18 -3.08395285e-18  0.00000000e+00\n",
      "   0.00000000e+00  1.54197642e-18  0.00000000e+00]\n",
      " [ 0.00000000e+00  1.54197642e-18 -3.08395285e-18  0.00000000e+00\n",
      "   0.00000000e+00  1.54197642e-18  0.00000000e+00]\n",
      " [ 0.00000000e+00  0.00000000e+00 -3.08395285e-18  0.00000000e+00\n",
      "   0.00000000e+00  0.00000000e+00  0.00000000e+00]\n",
      " [ 0.00000000e+00  0.00000000e+00  0.00000000e+00  0.00000000e+00\n",
      "   0.00000000e+00  0.00000000e+00  0.00000000e+00]]\n"
     ]
    }
   ],
   "source": [
    "print(arakawa(A_, B_, d=1).dtype)\n",
    "print(arakawa(A_, B_, d=1))"
   ]
  },
  {
   "cell_type": "code",
   "execution_count": 76,
   "metadata": {},
   "outputs": [
    {
     "name": "stdout",
     "output_type": "stream",
     "text": [
      "1.47 s ± 215 ms per loop (mean ± std. dev. of 7 runs, 1 loop each)\n"
     ]
    }
   ],
   "source": [
    "%%timeit\n",
    "A = np.random.random((N,N))\n",
    "B = np.random.random((N,N))\n",
    "A_ = periodic_boundary(A)\n",
    "B_ = periodic_boundary(B)\n",
    "C = arakawa(A_, B_, 1)"
   ]
  },
  {
   "cell_type": "markdown",
   "metadata": {},
   "source": [
    "### Fully Numba (0.012s, speedup$\\,\\geq\\, 288x$)"
   ]
  },
  {
   "cell_type": "code",
   "execution_count": 77,
   "metadata": {},
   "outputs": [],
   "source": [
    "@jit\n",
    "def arakawa(zeta, psi, d):\n",
    "    return (jpp(zeta, psi, d) + jpx(zeta, psi, d) + jxp(zeta, psi, d))/3"
   ]
  },
  {
   "cell_type": "code",
   "execution_count": 79,
   "metadata": {},
   "outputs": [
    {
     "name": "stdout",
     "output_type": "stream",
     "text": [
      "12.1 ms ± 1.39 ms per loop (mean ± std. dev. of 7 runs, 100 loops each)\n"
     ]
    }
   ],
   "source": [
    "%%timeit\n",
    "A = np.random.random((N,N))\n",
    "B = np.random.random((N,N))\n",
    "A_ = periodic_boundary(A)\n",
    "B_ = periodic_boundary(B)\n",
    "C = arakawa(A_, B_, 1)"
   ]
  },
  {
   "cell_type": "code",
   "execution_count": 83,
   "metadata": {},
   "outputs": [],
   "source": [
    "@jit(nopython=True, parallel=True, nogil=True, fastmath=True)\n",
    "def arakawa(zeta, psi, d):\n",
    "    return (jpp(zeta, psi, d) + jpx(zeta, psi, d) + jxp(zeta, psi, d))/3"
   ]
  },
  {
   "cell_type": "code",
   "execution_count": 84,
   "metadata": {},
   "outputs": [
    {
     "name": "stdout",
     "output_type": "stream",
     "text": [
      "11.8 ms ± 543 µs per loop (mean ± std. dev. of 7 runs, 1 loop each)\n"
     ]
    }
   ],
   "source": [
    "%%timeit\n",
    "A = np.random.random((N,N))\n",
    "B = np.random.random((N,N))\n",
    "A_ = periodic_boundary(A)\n",
    "B_ = periodic_boundary(B)\n",
    "C = arakawa(A_, B_, 1)"
   ]
  },
  {
   "cell_type": "markdown",
   "metadata": {},
   "source": [
    "### Reducing to one summation"
   ]
  },
  {
   "cell_type": "markdown",
   "metadata": {},
   "source": [
    "#### Equations"
   ]
  },
  {
   "cell_type": "markdown",
   "metadata": {},
   "source": [
    "$\\frac{\\mathbb{J}^{++} + \\mathbb{J}^{+\\times} + \\mathbb{J}^{\\times +}}{3}$\n",
    "\n",
    "$=\\frac{1}{3} \n",
    "\\frac{1}{4d^2} \\left[ \n",
    "    \\left( \\zeta_{i+1, j}   - \\zeta_{i-1, j}   \\right) \\left( \\psi_{i,   j+1} - \\psi_{i,   j-1} \\right)\n",
    "   -\\left( \\zeta_{i,   j+1} - \\zeta_{i,   j-1} \\right) \\left( \\psi_{i+1, j}   - \\psi_{i-1, j}   \\right) \\\\\n",
    "+\n",
    "    \\zeta_{i+1, j}   \\left( \\psi_{i+1, j+1} - \\psi_{i+1, j-1} \\right)\n",
    "   -\\zeta_{i-1, j}   \\left( \\psi_{i-1, j+1} - \\psi_{i-1, j-1} \\right)\n",
    "   -\\zeta_{i,   j+1} \\left( \\psi_{i+1, j+1} - \\psi_{i-1, j+1} \\right)\n",
    "   +\\zeta_{i,   j-1} \\left( \\psi_{i+1, j-1} - \\psi_{i-1, j-1} \\right) \\\\\n",
    "+\n",
    "    \\zeta_{i+1, j+1} \\left( \\psi_{i,   j+1} - \\psi_{i+1, j}   \\right)\n",
    "   -\\zeta_{i-1, j-1} \\left( \\psi_{i-1, j}   - \\psi_{i,   j-1} \\right)\n",
    "   -\\zeta_{i-1, j+1} \\left( \\psi_{i,   j+1} - \\psi_{i-1, j}   \\right)\n",
    "   +\\zeta_{i+1, j-1} \\left( \\psi_{i+1, j}   - \\psi_{i,   j-1} \\right)\n",
    "\\right]\n",
    "$"
   ]
  },
  {
   "cell_type": "markdown",
   "metadata": {},
   "source": [
    "$=\\frac{1}{3} \n",
    "\\frac{1}{4d^2} \\left[ \n",
    "    \\zeta_{i+1, j}   \\left( \\psi_{i,   j+1} - \\psi_{i,   j-1} \\right)\n",
    "   +\\zeta_{i+1, j}   \\left( \\psi_{i+1, j+1} - \\psi_{i+1, j-1} \\right)\n",
    "   -\\zeta_{i-1, j}   \\left( \\psi_{i,   j+1} - \\psi_{i,   j-1} \\right)\n",
    "   -\\zeta_{i-1, j}   \\left( \\psi_{i-1, j+1} - \\psi_{i-1, j-1} \\right)\n",
    "   -\\zeta_{i,   j+1} \\left( \\psi_{i+1, j}   - \\psi_{i-1, j}   \\right) \n",
    "   -\\zeta_{i,   j+1} \\left( \\psi_{i+1, j+1} - \\psi_{i-1, j+1} \\right)\n",
    "   +\\zeta_{i,   j-1} \\left( \\psi_{i+1, j}   - \\psi_{i-1, j}   \\right)\n",
    "   +\\zeta_{i,   j-1} \\left( \\psi_{i+1, j-1} - \\psi_{i-1, j-1} \\right)\n",
    "   +\\zeta_{i+1, j+1} \\left( \\psi_{i,   j+1} - \\psi_{i+1, j}   \\right)\n",
    "   -\\zeta_{i-1, j-1} \\left( \\psi_{i-1, j}   - \\psi_{i,   j-1} \\right)\n",
    "   -\\zeta_{i-1, j+1} \\left( \\psi_{i,   j+1} - \\psi_{i-1, j}   \\right)\n",
    "   +\\zeta_{i+1, j-1} \\left( \\psi_{i+1, j}   - \\psi_{i,   j-1} \\right)\n",
    "\\right]\n",
    "$"
   ]
  },
  {
   "cell_type": "markdown",
   "metadata": {},
   "source": [
    "$=\\frac{1}{12 d^2} \\left[ \n",
    "\\;            \\zeta_{i+1,\\, j}   \\left( \\psi_{i,\\,   j+1} - \\psi_{i,\\,   j-1} + \\psi_{i+1,\\, j+1} - \\psi_{i+1,\\, j-1} \\right) \\\\\n",
    "\\quad\\quad   -\\zeta_{i-1,\\, j}   \\left( \\psi_{i,\\,   j+1} - \\psi_{i,\\,   j-1} + \\psi_{i-1,\\, j+1} - \\psi_{i-1,\\, j-1} \\right) \\\\\n",
    "\\quad\\quad   -\\zeta_{i,\\,   j+1} \\left( \\psi_{i+1,\\, j}   - \\psi_{i-1,\\, j}   + \\psi_{i+1,\\, j+1} - \\psi_{i-1,\\, j+1} \\right) \\\\\n",
    "\\quad\\quad   +\\zeta_{i,\\,   j-1} \\left( \\psi_{i+1,\\, j}   - \\psi_{i-1,\\, j}   + \\psi_{i+1,\\, j-1} - \\psi_{i-1,\\, j-1} \\right) \\\\\n",
    "\\quad\\quad   +\\zeta_{i+1,\\, j-1} \\left( \\psi_{i+1,\\, j}   - \\psi_{i,\\,   j-1} \\right) \\\\\n",
    "\\quad\\quad   +\\zeta_{i+1,\\, j+1} \\left( \\psi_{i,\\,   j+1} - \\psi_{i+1,\\, j}   \\right) \\\\\n",
    "\\quad\\quad   -\\zeta_{i-1,\\, j+1} \\left( \\psi_{i,\\,   j+1} - \\psi_{i-1,\\, j}   \\right) \\\\\n",
    "\\quad\\quad   -\\zeta_{i-1,\\, j-1} \\left( \\psi_{i-1,\\, j}   - \\psi_{i,\\,   j-1} \\right)\n",
    "\\right]\n",
    "$"
   ]
  },
  {
   "cell_type": "markdown",
   "metadata": {},
   "source": [
    "#### Code"
   ]
  },
  {
   "cell_type": "code",
   "execution_count": 96,
   "metadata": {},
   "outputs": [],
   "source": [
    "def arakawa_stencil(zeta, psi):\n",
    "    return (zeta[ 1,  0] * (psi[ 0, 1] - psi[ 0, -1] + psi[ 1,  1] - psi[ 1, -1])\n",
    "           -zeta[-1,  0] * (psi[ 0, 1] - psi[ 0, -1] + psi[-1,  1] - psi[-1, -1])\n",
    "           -zeta[ 0,  1] * (psi[ 1, 0] - psi[-1,  0] + psi[ 1,  1] - psi[-1,  1])\n",
    "           +zeta[ 0, -1] * (psi[ 1, 0] - psi[-1,  0] + psi[ 1, -1] - psi[-1, -1])\n",
    "           +zeta[ 1, -1] * (psi[ 1, 0] - psi[ 0, -1])\n",
    "           +zeta[ 1,  1] * (psi[ 0, 1] - psi[ 1,  0])\n",
    "           -zeta[-1,  1] * (psi[ 0, 1] - psi[-1,  0])\n",
    "           -zeta[-1, -1] * (psi[-1, 0] - psi[0, -1]))\n",
    "\n",
    "\n",
    "def arakawa(zeta, psi, d):\n",
    "    return arakawa_stencil(zeta, psi) / (12*(d**2))"
   ]
  },
  {
   "cell_type": "code",
   "execution_count": 80,
   "metadata": {},
   "outputs": [],
   "source": [
    "A = np.random.random(4)\n",
    "A = np.array([A for i in range(4)])\n",
    "B = A\n",
    "A_ = periodic_boundary(A)\n",
    "B_ = periodic_boundary(B)"
   ]
  },
  {
   "cell_type": "code",
   "execution_count": 82,
   "metadata": {},
   "outputs": [
    {
     "data": {
      "text/plain": [
       "array([[ 0.00000000e+00,  0.00000000e+00,  0.00000000e+00,\n",
       "         0.00000000e+00,  0.00000000e+00,  0.00000000e+00],\n",
       "       [ 0.00000000e+00,  0.00000000e+00,  0.00000000e+00,\n",
       "        -2.71050543e-19, -2.89120579e-19,  0.00000000e+00],\n",
       "       [ 0.00000000e+00,  0.00000000e+00,  0.00000000e+00,\n",
       "        -2.71050543e-19,  0.00000000e+00,  0.00000000e+00],\n",
       "       [ 0.00000000e+00,  0.00000000e+00,  0.00000000e+00,\n",
       "        -2.71050543e-19,  0.00000000e+00,  0.00000000e+00],\n",
       "       [ 0.00000000e+00, -3.46944695e-18,  0.00000000e+00,\n",
       "        -2.71050543e-19,  1.44560290e-18,  0.00000000e+00],\n",
       "       [ 0.00000000e+00,  0.00000000e+00,  0.00000000e+00,\n",
       "         0.00000000e+00,  0.00000000e+00,  0.00000000e+00]])"
      ]
     },
     "execution_count": 82,
     "metadata": {},
     "output_type": "execute_result"
    }
   ],
   "source": [
    "arakawa(A_, B_, 1)"
   ]
  },
  {
   "cell_type": "markdown",
   "metadata": {},
   "source": [
    "### Timing"
   ]
  },
  {
   "cell_type": "markdown",
   "metadata": {},
   "source": [
    "#### Mixed"
   ]
  },
  {
   "cell_type": "code",
   "execution_count": null,
   "metadata": {},
   "outputs": [],
   "source": [
    "@stencil\n",
    "def arakawa_stencil(zeta, psi):\n",
    "    return (zeta[ 1,  0] * (psi[ 0, 1] - psi[ 0, -1] + psi[ 1,  1] - psi[ 1, -1])\n",
    "           -zeta[-1,  0] * (psi[ 0, 1] - psi[ 0, -1] + psi[-1,  1] - psi[-1, -1])\n",
    "           -zeta[ 0,  1] * (psi[ 1, 0] - psi[-1,  0] + psi[ 1,  1] - psi[-1,  1])\n",
    "           +zeta[ 0, -1] * (psi[ 1, 0] - psi[-1,  0] + psi[ 1, -1] - psi[-1, -1])\n",
    "           +zeta[ 1, -1] * (psi[ 1, 0] - psi[ 0, -1])\n",
    "           +zeta[ 1,  1] * (psi[ 0, 1] - psi[ 1,  0])\n",
    "           -zeta[-1,  1] * (psi[ 0, 1] - psi[-1,  0])\n",
    "           -zeta[-1, -1] * (psi[-1, 0] - psi[0, -1]))\n",
    "\n",
    "\n",
    "def arakawa(zeta, psi, d):\n",
    "    return arakawa_stencil(zeta, psi) / (12*(d**2))"
   ]
  },
  {
   "cell_type": "code",
   "execution_count": 86,
   "metadata": {},
   "outputs": [
    {
     "name": "stdout",
     "output_type": "stream",
     "text": [
      "1.98 s ± 275 ms per loop (mean ± std. dev. of 7 runs, 1 loop each)\n"
     ]
    }
   ],
   "source": [
    "%%timeit\n",
    "A = np.random.random((N,N))\n",
    "B = np.random.random((N,N))\n",
    "A_ = periodic_boundary(A)\n",
    "B_ = periodic_boundary(B)\n",
    "C = arakawa(A_, B_, 1)"
   ]
  },
  {
   "cell_type": "markdown",
   "metadata": {},
   "source": [
    "#### Numba (0.00913s, speedup$\\,\\geq\\, 370$)"
   ]
  },
  {
   "cell_type": "code",
   "execution_count": 87,
   "metadata": {},
   "outputs": [],
   "source": [
    "@jit\n",
    "def arakawa(zeta, psi, d):\n",
    "    return arakawa_stencil(zeta, psi) / (12*(d**2))"
   ]
  },
  {
   "cell_type": "code",
   "execution_count": 91,
   "metadata": {},
   "outputs": [
    {
     "data": {
      "text/plain": [
       "array([[ 0.00000000e+00,  0.00000000e+00,  0.00000000e+00,\n",
       "         0.00000000e+00,  0.00000000e+00,  0.00000000e+00],\n",
       "       [ 0.00000000e+00,  0.00000000e+00,  0.00000000e+00,\n",
       "        -2.71050543e-19, -2.89120579e-19,  0.00000000e+00],\n",
       "       [ 0.00000000e+00,  0.00000000e+00,  0.00000000e+00,\n",
       "        -2.71050543e-19,  0.00000000e+00,  0.00000000e+00],\n",
       "       [ 0.00000000e+00,  0.00000000e+00,  0.00000000e+00,\n",
       "        -2.71050543e-19,  0.00000000e+00,  0.00000000e+00],\n",
       "       [ 0.00000000e+00, -3.46944695e-18,  0.00000000e+00,\n",
       "        -2.71050543e-19,  1.44560290e-18,  0.00000000e+00],\n",
       "       [ 0.00000000e+00,  0.00000000e+00,  0.00000000e+00,\n",
       "         0.00000000e+00,  0.00000000e+00,  0.00000000e+00]])"
      ]
     },
     "execution_count": 91,
     "metadata": {},
     "output_type": "execute_result"
    }
   ],
   "source": [
    "arakawa(A_, B_, 1.)"
   ]
  },
  {
   "cell_type": "code",
   "execution_count": 92,
   "metadata": {},
   "outputs": [
    {
     "name": "stdout",
     "output_type": "stream",
     "text": [
      "9.13 ms ± 512 µs per loop (mean ± std. dev. of 7 runs, 100 loops each)\n"
     ]
    }
   ],
   "source": [
    "%%timeit\n",
    "A = np.random.random((N,N))\n",
    "B = np.random.random((N,N))\n",
    "A_ = periodic_boundary(A)\n",
    "B_ = periodic_boundary(B)\n",
    "C = arakawa(A_, B_, 1.)"
   ]
  },
  {
   "cell_type": "markdown",
   "metadata": {},
   "source": [
    "## Conclusion"
   ]
  },
  {
   "cell_type": "markdown",
   "metadata": {},
   "source": [
    "Numba is an exceptional tool for speeding up numerical Python and should be a core tool for any scientist. It makes writing high performing code almost as easy as writing normal Python, especially for stencils. While some operations like boundary conditions still have to be explicitly implemented, it is worth the effort to learn.\n",
    "\n",
    "The bottom line is, it enables the conversion from equations found in a paper, to a performative implementation without the need to use lower level languages that require compilation for each machine. While there definitely is still some speedup to be had for using more tools, a factor of $370$ over pure python with a few lines of extra code is worth it in many circumstance to remove it as a bottleneck in the calculation."
   ]
  }
 ],
 "metadata": {
  "kernelspec": {
   "display_name": "Python 3",
   "language": "python",
   "name": "python3"
  },
  "language_info": {
   "codemirror_mode": {
    "name": "ipython",
    "version": 3
   },
   "file_extension": ".py",
   "mimetype": "text/x-python",
   "name": "python",
   "nbconvert_exporter": "python",
   "pygments_lexer": "ipython3",
   "version": "3.7.6"
  }
 },
 "nbformat": 4,
 "nbformat_minor": 4
}
