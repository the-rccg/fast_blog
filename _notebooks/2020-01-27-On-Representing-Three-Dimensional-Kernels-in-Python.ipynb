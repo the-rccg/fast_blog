{
 "cells": [
  {
   "cell_type": "markdown",
   "metadata": {},
   "source": [
    "# Construction of 3D Kernel\n",
    "> Different representations for a 3D Kernel in (3,3,3,1,1)\n",
    "- toc: True"
   ]
  },
  {
   "cell_type": "markdown",
   "metadata": {},
   "source": [
    "Code should be easy to understand, yet not be excessively long. It also should probide an intuitive understanding.\n",
    "\n",
    "Here, I discuss a piece of code I encountered and various ways to attempt to improve on it for readability while maintaining performance."
   ]
  },
  {
   "cell_type": "code",
   "execution_count": 2,
   "metadata": {},
   "outputs": [],
   "source": [
    "import numpy as np"
   ]
  },
  {
   "cell_type": "markdown",
   "metadata": {},
   "source": [
    "## The Dynamic Approach: Short, but not intuitive"
   ]
  },
  {
   "cell_type": "code",
   "execution_count": 6,
   "metadata": {},
   "outputs": [],
   "source": [
    "kernel1 = np.zeros((3, 3, 3, 1, 1), np.float32)\n",
    "kernel1[1, 1, 1, 0, 0] = -6\n",
    "kernel1[(0, 1, 1, 1, 1, 2),\n",
    "       (1, 0, 2, 1, 1, 1),\n",
    "       (1, 1, 1, 0, 2, 1),\n",
    "       0, 0] = 1"
   ]
  },
  {
   "cell_type": "code",
   "execution_count": 3,
   "metadata": {},
   "outputs": [
    {
     "name": "stdout",
     "output_type": "stream",
     "text": [
      "6.64 µs ± 395 ns per loop (mean ± std. dev. of 7 runs, 100000 loops each)\n"
     ]
    }
   ],
   "source": [
    "%%timeit\n",
    "kernel1 = np.zeros((3, 3, 3, 1, 1), np.float32)\n",
    "kernel1[1, 1, 1, 0, 0] = -6\n",
    "kernel1[(0, 1, 1, 1, 1, 2),\n",
    "       (1, 0, 2, 1, 1, 1),\n",
    "       (1, 1, 1, 0, 2, 1),\n",
    "       0, 0] = 1"
   ]
  },
  {
   "cell_type": "markdown",
   "metadata": {},
   "source": [
    "## The Hardcoded Approach: Clear, but cumbersome"
   ]
  },
  {
   "cell_type": "code",
   "execution_count": 9,
   "metadata": {},
   "outputs": [],
   "source": [
    "kernel2 = np.array([[[[[ 0.]], [[ 0.]], [[ 0.]]],\n",
    "                     [[[ 0.]], [[ 1.]], [[ 0.]]],\n",
    "                     [[[ 0.]], [[ 0.]], [[ 0.]]]],\n",
    "\n",
    "                    [[[[ 0.]], [[ 1.]], [[ 0.]]],\n",
    "                     [[[ 1.]], [[-6.]], [[ 1.]]],\n",
    "                     [[[ 0.]], [[ 1.]], [[ 0.]]]],\n",
    "\n",
    "                    [[[[ 0.]], [[ 0.]], [[ 0.]]],\n",
    "                     [[[ 0.]], [[ 1.]], [[ 0.]]],\n",
    "                     [[[ 0.]], [[ 0.]], [[ 0.]]]]], dtype=np.float32)"
   ]
  },
  {
   "cell_type": "code",
   "execution_count": 4,
   "metadata": {},
   "outputs": [
    {
     "name": "stdout",
     "output_type": "stream",
     "text": [
      "18.9 µs ± 2.26 µs per loop (mean ± std. dev. of 7 runs, 100000 loops each)\n"
     ]
    }
   ],
   "source": [
    "%%timeit\n",
    "kernel2 = np.array([[[[[ 0.]], [[ 0.]], [[ 0.]]],\n",
    "                    [[[ 0.]], [[ 1.]], [[ 0.]]],\n",
    "                    [[[ 0.]], [[ 0.]], [[ 0.]]]],\n",
    "\n",
    "                   [[[[ 0.]], [[ 1.]], [[ 0.]]],\n",
    "                    [[[ 1.]], [[-6.]], [[ 1.]]],\n",
    "                    [[[ 0.]], [[ 1.]], [[ 0.]]]],\n",
    "\n",
    "                   [[[[ 0.]], [[ 0.]], [[ 0.]]],\n",
    "                    [[[ 0.]], [[ 1.]], [[ 0.]]],\n",
    "                    [[[ 0.]], [[ 0.]], [[ 0.]]]]], dtype=np.float32)"
   ]
  },
  {
   "cell_type": "code",
   "execution_count": 14,
   "metadata": {},
   "outputs": [
    {
     "data": {
      "text/plain": [
       "True"
      ]
     },
     "execution_count": 14,
     "metadata": {},
     "output_type": "execute_result"
    }
   ],
   "source": [
    "np.array_equal(kernel1, kernel2)"
   ]
  },
  {
   "cell_type": "markdown",
   "metadata": {},
   "source": [
    "## The Minimal Example"
   ]
  },
  {
   "cell_type": "code",
   "execution_count": 15,
   "metadata": {},
   "outputs": [],
   "source": [
    "kernel3 = np.array([[[ 0.,  0.,  0.],\n",
    "                    [ 0.,  1.,  0.],\n",
    "                    [ 0.,  0.,  0.]],\n",
    "                   [[ 0.,  1.,  0.],\n",
    "                    [ 1., -6.,  1.],\n",
    "                    [ 0.,  1.,  0.]],\n",
    "                   [[ 0.,  0.,  0.],\n",
    "                    [ 0.,  1.,  0.],\n",
    "                    [ 0.,  0.,  0.]]], dtype=np.float32)"
   ]
  },
  {
   "cell_type": "code",
   "execution_count": 16,
   "metadata": {},
   "outputs": [
    {
     "name": "stdout",
     "output_type": "stream",
     "text": [
      "4.02 µs ± 68.2 ns per loop (mean ± std. dev. of 7 runs, 100000 loops each)\n"
     ]
    }
   ],
   "source": [
    "%%timeit\n",
    "kernel3 = np.array([[[ 0.,  0.,  0.],\n",
    "                    [ 0.,  1.,  0.],\n",
    "                    [ 0.,  0.,  0.]],\n",
    "                   [[ 0.,  1.,  0.],\n",
    "                    [ 1., -6.,  1.],\n",
    "                    [ 0.,  1.,  0.]],\n",
    "                   [[ 0.,  0.,  0.],\n",
    "                    [ 0.,  1.,  0.],\n",
    "                    [ 0.,  0.,  0.]]], dtype=np.float32)"
   ]
  },
  {
   "cell_type": "code",
   "execution_count": 17,
   "metadata": {},
   "outputs": [
    {
     "data": {
      "text/plain": [
       "False"
      ]
     },
     "execution_count": 17,
     "metadata": {},
     "output_type": "execute_result"
    }
   ],
   "source": [
    "np.array_equal(kernel1, kernel3)"
   ]
  },
  {
   "cell_type": "markdown",
   "metadata": {},
   "source": [
    "## The Explicit Construction"
   ]
  },
  {
   "cell_type": "code",
   "execution_count": 19,
   "metadata": {},
   "outputs": [],
   "source": [
    "kernel4 = np.array([[[ 0.,  0.,  0.],\n",
    "                    [ 0.,  1.,  0.],\n",
    "                    [ 0.,  0.,  0.]],\n",
    "                   [[ 0.,  1.,  0.],\n",
    "                    [ 1., -6.,  1.],\n",
    "                    [ 0.,  1.,  0.]],\n",
    "                   [[ 0.,  0.,  0.],\n",
    "                    [ 0.,  1.,  0.],\n",
    "                    [ 0.,  0.,  0.]]], dtype=np.float32)\n",
    "kernel4 = np.expand_dims(np.expand_dims(kernel4, -1), -1)"
   ]
  },
  {
   "cell_type": "code",
   "execution_count": 20,
   "metadata": {},
   "outputs": [
    {
     "name": "stdout",
     "output_type": "stream",
     "text": [
      "8.51 µs ± 178 ns per loop (mean ± std. dev. of 7 runs, 100000 loops each)\n"
     ]
    }
   ],
   "source": [
    "%%timeit\n",
    "kernel = np.array([[[ 0.,  0.,  0.],\n",
    "                    [ 0.,  1.,  0.],\n",
    "                    [ 0.,  0.,  0.]],\n",
    "                   [[ 0.,  1.,  0.],\n",
    "                    [ 1., -6.,  1.],\n",
    "                    [ 0.,  1.,  0.]],\n",
    "                   [[ 0.,  0.,  0.],\n",
    "                    [ 0.,  1.,  0.],\n",
    "                    [ 0.,  0.,  0.]]], dtype=np.float32)\n",
    "kernel = np.expand_dims(np.expand_dims(kernel, -1), -1)"
   ]
  },
  {
   "cell_type": "code",
   "execution_count": 21,
   "metadata": {},
   "outputs": [
    {
     "data": {
      "text/plain": [
       "True"
      ]
     },
     "execution_count": 21,
     "metadata": {},
     "output_type": "execute_result"
    }
   ],
   "source": [
    "np.array_equal(kernel1, kernel4)"
   ]
  },
  {
   "cell_type": "markdown",
   "metadata": {},
   "source": [
    "## The Clear and Explicit Way"
   ]
  },
  {
   "cell_type": "code",
   "execution_count": 22,
   "metadata": {},
   "outputs": [],
   "source": [
    "kernel5 = np.array([[[ 0.,  0.,  0.],\n",
    "                    [ 0.,  1.,  0.],\n",
    "                    [ 0.,  0.,  0.]],\n",
    "                   [[ 0.,  1.,  0.],\n",
    "                    [ 1., -6.,  1.],\n",
    "                    [ 0.,  1.,  0.]],\n",
    "                   [[ 0.,  0.,  0.],\n",
    "                    [ 0.,  1.,  0.],\n",
    "                    [ 0.,  0.,  0.]]], dtype=np.float32)\n",
    "kernel5 = kernel5.reshape((3, 3, 3, 1, 1))"
   ]
  },
  {
   "cell_type": "code",
   "execution_count": 24,
   "metadata": {},
   "outputs": [
    {
     "name": "stdout",
     "output_type": "stream",
     "text": [
      "4.25 µs ± 85.4 ns per loop (mean ± std. dev. of 7 runs, 100000 loops each)\n"
     ]
    }
   ],
   "source": [
    "%%timeit\n",
    "kernel5 = np.array([[[ 0.,  0.,  0.],\n",
    "                     [ 0.,  1.,  0.],\n",
    "                     [ 0.,  0.,  0.]],\n",
    "                    [[ 0.,  1.,  0.],\n",
    "                     [ 1., -6.,  1.],\n",
    "                     [ 0.,  1.,  0.]],\n",
    "                    [[ 0.,  0.,  0.],\n",
    "                     [ 0.,  1.,  0.],\n",
    "                     [ 0.,  0.,  0.]]], dtype=np.float32)\n",
    "kernel5 = kernel5.reshape((3, 3, 3, 1, 1))"
   ]
  },
  {
   "cell_type": "code",
   "execution_count": 23,
   "metadata": {},
   "outputs": [
    {
     "data": {
      "text/plain": [
       "True"
      ]
     },
     "execution_count": 23,
     "metadata": {},
     "output_type": "execute_result"
    }
   ],
   "source": [
    "np.array_equal(kernel1, kernel5)"
   ]
  },
  {
   "cell_type": "markdown",
   "metadata": {},
   "source": [
    "## Summary\n",
    "\n",
    "There are endless ways to write the exact same thing, however, some appear clearer to the reader than others. Keeping things explicit is often better for readability than the most efficient way. Going with the Zen of Python, Explicit is better than Implicit, and is hence way the Clear and Explicit construction is preferred for Python. If it is performance critical, maybe write it in another language, but do not get attached to writing code a certain way. After all, its code thats supposed to work and be used, not a work of art for a museum."
   ]
  }
 ],
 "metadata": {
  "kernelspec": {
   "display_name": "Python 3",
   "language": "python",
   "name": "python3"
  },
  "language_info": {
   "codemirror_mode": {
    "name": "ipython",
    "version": 3
   },
   "file_extension": ".py",
   "mimetype": "text/x-python",
   "name": "python",
   "nbconvert_exporter": "python",
   "pygments_lexer": "ipython3",
   "version": "3.7.6"
  }
 },
 "nbformat": 4,
 "nbformat_minor": 4
}
